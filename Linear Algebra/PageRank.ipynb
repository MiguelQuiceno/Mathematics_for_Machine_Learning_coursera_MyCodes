{
 "cells": [
  {
   "cell_type": "markdown",
   "metadata": {
    "colab_type": "text",
    "collapsed": true,
    "id": "qQjoxXbj-L-Q"
   },
   "source": [
    "# PageRank\n",
    "In this notebook, you'll build on your knowledge of eigenvectors and eigenvalues by exploring the PageRank algorithm.\n",
    "The notebook is in two parts, the first is a worksheet to get you up to speed with how the algorithm works - here we will look at a micro-internet with fewer than 10 websites and see what it does and what can go wrong.\n",
    "The second is an assessment which will test your application of eigentheory to this problem by writing code and calculating the page rank of a large network representing a sub-section of the internet."
   ]
  },
  {
   "cell_type": "markdown",
   "metadata": {
    "colab_type": "text",
    "id": "1U0Aavav-L-a"
   },
   "source": [
    "## Part 1 - Worksheet\n",
    "### Introduction\n",
    "\n",
    "PageRank (developed by Larry Page and Sergey Brin) revolutionized web search by generating a\n",
    "ranked list of web pages based on the underlying connectivity of the web. The PageRank algorithm is\n",
    "based on an ideal random web surfer who, when reaching a page, goes to the next page by clicking on a\n",
    "link. The surfer has equal probability of clicking any link on the page and, when reaching a page with no\n",
    "links, has equal probability of moving to any other page by typing in its URL. In addition, the surfer may\n",
    "occasionally choose to type in a random URL instead of following the links on a page. The PageRank is\n",
    "the ranked order of the pages from the most to the least probable page the surfer will be viewing.\n"
   ]
  },
  {
   "cell_type": "code",
   "execution_count": 2,
   "metadata": {
    "colab": {},
    "colab_type": "code",
    "id": "pJvIaCA4-L-e"
   },
   "outputs": [
    {
     "name": "stdout",
     "output_type": "stream",
     "text": [
      "Populating the interactive namespace from numpy and matplotlib\n"
     ]
    }
   ],
   "source": [
    "# Before we begin, let's load the libraries.\n",
    "%pylab notebook\n",
    "import numpy as np\n",
    "import numpy.linalg as la\n",
    "from readonly.PageRankFunctions import *\n",
    "np.set_printoptions(suppress=True)"
   ]
  },
  {
   "cell_type": "markdown",
   "metadata": {
    "colab_type": "text",
    "id": "BH4v-RLo-L-t"
   },
   "source": [
    "### PageRank as a linear algebra problem\n",
    "Let's imagine a micro-internet, with just 6 websites (**A**vocado, **B**ullseye, **C**atBabel, **D**romeda, **e**Tings, and **F**aceSpace).\n",
    "Each website links to some of the others, and this forms a network as shown,\n",
    "\n",
    "![A Micro-Internet](readonly/internet.png \"A Micro-Internet\")\n",
    "\n",
    "The design principle of PageRank is that important websites will be linked to by important websites.\n",
    "This somewhat recursive principle will form the basis of our thinking.\n",
    "\n",
    "Imagine we have 100 *Procrastinating Pat*s on our micro-internet, each viewing a single website at a time.\n",
    "Each minute the Pats follow a link on their website to another site on the micro-internet.\n",
    "After a while, the websites that are most linked to will have more Pats visiting them, and in the long run, each minute for every Pat that leaves a website, another will enter keeping the total numbers of Pats on each website constant.\n",
    "The PageRank is simply the ranking of websites by how many Pats they have on them at the end of this process.\n",
    "\n",
    "We represent the number of Pats on each website with the vector,\n",
    "$$\\mathbf{r} = \\begin{bmatrix} r_A \\\\ r_B \\\\ r_C \\\\ r_D \\\\ r_E \\\\ r_F \\end{bmatrix}$$\n",
    "And say that the number of Pats on each website in minute $i+1$ is related to those at minute $i$ by the matrix transformation\n",
    "\n",
    "$$ \\mathbf{r}^{(i+1)} = L \\,\\mathbf{r}^{(i)}$$\n",
    "with the matrix $L$ taking the form,\n",
    "$$ L = \\begin{bmatrix}\n",
    "L_{A→A} & L_{B→A} & L_{C→A} & L_{D→A} & L_{E→A} & L_{F→A} \\\\\n",
    "L_{A→B} & L_{B→B} & L_{C→B} & L_{D→B} & L_{E→B} & L_{F→B} \\\\\n",
    "L_{A→C} & L_{B→C} & L_{C→C} & L_{D→C} & L_{E→C} & L_{F→C} \\\\\n",
    "L_{A→D} & L_{B→D} & L_{C→D} & L_{D→D} & L_{E→D} & L_{F→D} \\\\\n",
    "L_{A→E} & L_{B→E} & L_{C→E} & L_{D→E} & L_{E→E} & L_{F→E} \\\\\n",
    "L_{A→F} & L_{B→F} & L_{C→F} & L_{D→F} & L_{E→F} & L_{F→F} \\\\\n",
    "\\end{bmatrix}\n",
    "$$\n",
    "where the columns represent the probability of leaving a website for any other website, and sum to one.\n",
    "The rows determine how likely you are to enter a website from any other, though these need not add to one.\n",
    "The long time behaviour of this system is when $ \\mathbf{r}^{(i+1)} = \\mathbf{r}^{(i)}$, so we'll drop the superscripts here, and that allows us to write,\n",
    "$$ L \\,\\mathbf{r} = \\mathbf{r}$$\n",
    "\n",
    "which is an eigenvalue equation for the matrix $L$, with eigenvalue 1 (this is guaranteed by the probabalistic structure of the matrix $L$).\n",
    "\n",
    "Complete the matrix $L$ below, we've left out the column for which websites the *FaceSpace* website (F) links to.\n",
    "Remember, this is the probability to click on another website from this one, so each column should add to one (by scaling by the number of links)."
   ]
  },
  {
   "cell_type": "code",
   "execution_count": 3,
   "metadata": {
    "colab": {},
    "colab_type": "code",
    "collapsed": true,
    "id": "uzeLUdxx-L-z"
   },
   "outputs": [],
   "source": [
    "# Replace the ??? here with the probability of clicking a link to each website when leaving Website F (FaceSpace).\n",
    "L = np.array([[0,   1/2, 1/3, 0, 0,   0 ],\n",
    "              [1/3, 0,   0,   0, 1/2, 0 ],\n",
    "              [1/3, 1/2, 0,   1, 0,   1/2 ],\n",
    "              [1/3, 0,   1/3, 0, 1/2, 1/2 ],\n",
    "              [0,   0,   0,   0, 0,   0 ],\n",
    "              [0,   0,   1/3, 0, 0,   0 ]])"
   ]
  },
  {
   "cell_type": "markdown",
   "metadata": {
    "colab_type": "text",
    "id": "9OY5EdvB-L-8"
   },
   "source": [
    "In principle, we could use a linear algebra library, as below, to calculate the eigenvalues and vectors.\n",
    "And this would work for a small system. But this gets unmanagable for large systems.\n",
    "And since we only care about the principal eigenvector (the one with the largest eigenvalue, which will be 1 in this case), we can use the *power iteration method* which will scale better, and is faster for large systems.\n",
    "\n",
    "Use the code below to peek at the PageRank for this micro-internet."
   ]
  },
  {
   "cell_type": "code",
   "execution_count": 4,
   "metadata": {
    "colab": {},
    "colab_type": "code",
    "id": "wTfFH7M7-L-_"
   },
   "outputs": [
    {
     "data": {
      "text/plain": [
       "array([ 16.        ,   5.33333333,  40.        ,  25.33333333,\n",
       "         0.        ,  13.33333333])"
      ]
     },
     "execution_count": 4,
     "metadata": {},
     "output_type": "execute_result"
    }
   ],
   "source": [
    "eVals, eVecs = la.eig(L) # Gets the eigenvalues and vectors\n",
    "order = np.absolute(eVals).argsort()[::-1] # Orders them by their eigenvalues\n",
    "eVals = eVals[order]\n",
    "eVecs = eVecs[:,order]\n",
    "\n",
    "r = eVecs[:, 0] # Sets r to be the principal eigenvector\n",
    "100 * np.real(r / np.sum(r)) # Make this eigenvector sum to one, then multiply by 100 Procrastinating Pats"
   ]
  },
  {
   "cell_type": "markdown",
   "metadata": {
    "colab_type": "text",
    "id": "CKTDNiOt-L_I"
   },
   "source": [
    "We can see from this list, the number of Procrastinating Pats that we expect to find on each website after long times.\n",
    "Putting them in order of *popularity* (based on this metric), the PageRank of this micro-internet is:\n",
    "\n",
    "**C**atBabel, **D**romeda, **A**vocado, **F**aceSpace, **B**ullseye, **e**Tings\n",
    "\n",
    "Referring back to the micro-internet diagram, is this what you would have expected?\n",
    "Convince yourself that based on which pages seem important given which others link to them, that this is a sensible ranking.\n",
    "\n",
    "Let's now try to get the same result using the Power-Iteration method that was covered in the video.\n",
    "This method will be much better at dealing with large systems.\n",
    "\n",
    "First let's set up our initial vector, $\\mathbf{r}^{(0)}$, so that we have our 100 Procrastinating Pats equally distributed on each of our 6 websites."
   ]
  },
  {
   "cell_type": "code",
   "execution_count": 5,
   "metadata": {
    "colab": {},
    "colab_type": "code",
    "id": "BjR7YZ43-L_K"
   },
   "outputs": [
    {
     "data": {
      "text/plain": [
       "array([ 16.66666667,  16.66666667,  16.66666667,  16.66666667,\n",
       "        16.66666667,  16.66666667])"
      ]
     },
     "execution_count": 5,
     "metadata": {},
     "output_type": "execute_result"
    }
   ],
   "source": [
    "r = 100 * np.ones(6) / 6 # Sets up this vector (6 entries of 1/6 × 100 each)\n",
    "r # Shows it's value"
   ]
  },
  {
   "cell_type": "markdown",
   "metadata": {
    "colab_type": "text",
    "id": "q1le5K3T-L_T"
   },
   "source": [
    "Next, let's update the vector to the next minute, with the matrix $L$.\n",
    "Run the following cell multiple times, until the answer stabilises."
   ]
  },
  {
   "cell_type": "code",
   "execution_count": 6,
   "metadata": {
    "colab": {},
    "colab_type": "code",
    "id": "ZaEP4ocb-L_V"
   },
   "outputs": [
    {
     "data": {
      "text/plain": [
       "array([ 13.88888889,  13.88888889,  38.88888889,  27.77777778,\n",
       "         0.        ,   5.55555556])"
      ]
     },
     "execution_count": 6,
     "metadata": {},
     "output_type": "execute_result"
    }
   ],
   "source": [
    "r = L @ r # Apply matrix L to r\n",
    "r # Show it's value\n",
    "# Re-run this cell multiple times to converge to the correct answer."
   ]
  },
  {
   "cell_type": "markdown",
   "metadata": {
    "colab_type": "text",
    "id": "FqgI1eqb-L_e"
   },
   "source": [
    "We can automate applying this matrix multiple times as follows,"
   ]
  },
  {
   "cell_type": "code",
   "execution_count": 7,
   "metadata": {
    "colab": {},
    "colab_type": "code",
    "id": "3HLbJ_9a-L_h"
   },
   "outputs": [
    {
     "data": {
      "text/plain": [
       "array([ 16.        ,   5.33333333,  40.        ,  25.33333333,\n",
       "         0.        ,  13.33333333])"
      ]
     },
     "execution_count": 7,
     "metadata": {},
     "output_type": "execute_result"
    }
   ],
   "source": [
    "r = 100 * np.ones(6) / 6 # Sets up this vector (6 entries of 1/6 × 100 each)\n",
    "for i in np.arange(100) : # Repeat 100 times\n",
    "    r = L @ r\n",
    "r"
   ]
  },
  {
   "cell_type": "markdown",
   "metadata": {
    "colab_type": "text",
    "id": "WEHezSVq-L_n"
   },
   "source": [
    "Or even better, we can keep running until we get to the required tolerance."
   ]
  },
  {
   "cell_type": "code",
   "execution_count": 8,
   "metadata": {
    "colab": {},
    "colab_type": "code",
    "id": "mnNdvnag-L_o"
   },
   "outputs": [
    {
     "name": "stdout",
     "output_type": "stream",
     "text": [
      "18 iterations to convergence.\n"
     ]
    },
    {
     "data": {
      "text/plain": [
       "array([ 16.00149917,   5.33252025,  39.99916911,  25.3324738 ,\n",
       "         0.        ,  13.33433767])"
      ]
     },
     "execution_count": 8,
     "metadata": {},
     "output_type": "execute_result"
    }
   ],
   "source": [
    "r = 100 * np.ones(6) / 6 # Sets up this vector (6 entries of 1/6 × 100 each)\n",
    "lastR = r\n",
    "r = L @ r\n",
    "i = 0\n",
    "while la.norm(lastR - r) > 0.01 :\n",
    "    lastR = r\n",
    "    r = L @ r\n",
    "    i += 1\n",
    "print(str(i) + \" iterations to convergence.\")\n",
    "r"
   ]
  },
  {
   "cell_type": "markdown",
   "metadata": {
    "colab_type": "text",
    "id": "0WYyy8kV-L_t"
   },
   "source": [
    "See how the PageRank order is established fairly quickly, and the vector converges on the value we calculated earlier after a few tens of repeats.\n",
    "\n",
    "Congratulations! You've just calculated your first PageRank!"
   ]
  },
  {
   "cell_type": "markdown",
   "metadata": {
    "colab_type": "text",
    "id": "BvmpgYXI-L_u"
   },
   "source": [
    "### Damping Parameter\n",
    "The system we just studied converged fairly quickly to the correct answer.\n",
    "Let's consider an extension to our micro-internet where things start to go wrong.\n",
    "\n",
    "Say a new website is added to the micro-internet: *Geoff's* Website.\n",
    "This website is linked to by *FaceSpace* and only links to itself.\n",
    "![An Expanded Micro-Internet](readonly/internet2.png \"An Expanded Micro-Internet\")\n",
    "\n",
    "Intuitively, only *FaceSpace*, which is in the bottom half of the page rank, links to this website amongst the two others it links to,\n",
    "so we might expect *Geoff's* site to have a correspondingly low PageRank score.\n",
    "\n",
    "Build the new $L$ matrix for the expanded micro-internet, and use Power-Iteration on the Procrastinating Pat vector.\n",
    "See what happens…"
   ]
  },
  {
   "cell_type": "code",
   "execution_count": 10,
   "metadata": {
    "colab": {},
    "colab_type": "code",
    "collapsed": true,
    "id": "X2pTv14l-L_w"
   },
   "outputs": [],
   "source": [
    " # We'll call this one L2, to distinguish it from the previous L.\n",
    "L2 = np.array([[0,   1/2, 1/3, 0, 0,   0, 0 ],\n",
    "               [1/3, 0,   0,   0, 1/2, 0, 0 ],\n",
    "               [1/3, 1/2, 0,   1, 0,   1/3, 0 ],\n",
    "               [1/3, 0,   1/3, 0, 1/2, 1/3, 0 ],\n",
    "               [0,   0,   0,   0, 0,   0, 0 ],\n",
    "               [0,   0,   1/3, 0, 0,   0, 0 ],\n",
    "               [0,   0,   0,   0, 0,   1/3, 1 ]])"
   ]
  },
  {
   "cell_type": "code",
   "execution_count": 11,
   "metadata": {
    "colab": {},
    "colab_type": "code",
    "id": "slqs3vgq-L_2"
   },
   "outputs": [
    {
     "name": "stdout",
     "output_type": "stream",
     "text": [
      "131 iterations to convergence.\n"
     ]
    },
    {
     "data": {
      "text/plain": [
       "array([  0.03046998,   0.01064323,   0.07126612,   0.04423198,\n",
       "         0.        ,   0.02489342,  99.81849527])"
      ]
     },
     "execution_count": 11,
     "metadata": {},
     "output_type": "execute_result"
    }
   ],
   "source": [
    "r = 100 * np.ones(7) / 7 # Sets up this vector (6 entries of 1/6 × 100 each)\n",
    "lastR = r\n",
    "r = L2 @ r\n",
    "i = 0\n",
    "while la.norm(lastR - r) > 0.01 :\n",
    "    lastR = r\n",
    "    r = L2 @ r\n",
    "    i += 1\n",
    "print(str(i) + \" iterations to convergence.\")\n",
    "r"
   ]
  },
  {
   "cell_type": "markdown",
   "metadata": {
    "colab_type": "text",
    "id": "D0NoZS_P-L_5"
   },
   "source": [
    "That's no good! *Geoff* seems to be taking all the traffic on the micro-internet, and somehow coming at the top of the PageRank.\n",
    "This behaviour can be understood, because once a Pat get's to *Geoff's* Website, they can't leave, as all links head back to Geoff.\n",
    "\n",
    "To combat this, we can add a small probability that the Procrastinating Pats don't follow any link on a webpage, but instead visit a website on the micro-internet at random.\n",
    "We'll say the probability of them following a link is $d$ and the probability of choosing a random website is therefore $1-d$.\n",
    "We can use a new matrix to work out where the Pat's visit each minute.\n",
    "$$ M = d \\, L + \\frac{1-d}{n} \\, J $$\n",
    "where $J$ is an $n\\times n$ matrix where every element is one.\n",
    "\n",
    "If $d$ is one, we have the case we had previously, whereas if $d$ is zero, we will always visit a random webpage and therefore all webpages will be equally likely and equally ranked.\n",
    "For this extension to work best, $1-d$ should be somewhat small - though we won't go into a discussion about exactly how small.\n",
    "\n",
    "Let's retry this PageRank with this extension."
   ]
  },
  {
   "cell_type": "code",
   "execution_count": 24,
   "metadata": {
    "colab": {},
    "colab_type": "code",
    "collapsed": true,
    "id": "ECn8Vt22-L_6"
   },
   "outputs": [],
   "source": [
    "d = 0.5 # Feel free to play with this parameter after running the code once.\n",
    "M = d * L2 + (1-d)/7 * np.ones([7, 7]) # np.ones() is the J matrix, with ones for each entry."
   ]
  },
  {
   "cell_type": "code",
   "execution_count": 25,
   "metadata": {
    "colab": {},
    "colab_type": "code",
    "id": "UK9o2Y0W-L_9"
   },
   "outputs": [
    {
     "name": "stdout",
     "output_type": "stream",
     "text": [
      "8 iterations to convergence.\n"
     ]
    },
    {
     "data": {
      "text/plain": [
       "array([ 13.68217054,  11.20902965,  22.41964343,  16.7593433 ,\n",
       "         7.14285714,  10.87976354,  17.90719239])"
      ]
     },
     "execution_count": 25,
     "metadata": {},
     "output_type": "execute_result"
    }
   ],
   "source": [
    "r = 100 * np.ones(7) / 7 # Sets up this vector (6 entries of 1/6 × 100 each)\n",
    "lastR = r\n",
    "r = M @ r\n",
    "i = 0\n",
    "while la.norm(lastR - r) > 0.01 :\n",
    "    lastR = r\n",
    "    r = M @ r\n",
    "    i += 1\n",
    "print(str(i) + \" iterations to convergence.\")\n",
    "r"
   ]
  },
  {
   "cell_type": "markdown",
   "metadata": {
    "colab_type": "text",
    "id": "p7avWa2y-MAB"
   },
   "source": [
    "This is certainly better, the PageRank gives sensible numbers for the Procrastinating Pats that end up on each webpage.\n",
    "This method still predicts Geoff has a high ranking webpage however.\n",
    "This could be seen as a consequence of using a small network. We could also get around the problem by not counting self-links when producing the L matrix (an if a website has no outgoing links, make it link to all websites equally).\n",
    "We won't look further down this route, as this is in the realm of improvements to PageRank, rather than eigenproblems.\n",
    "\n",
    "You are now in a good position, having gained an understanding of PageRank, to produce your own code to calculate the PageRank of a website with thousands of entries.\n",
    "\n",
    "Good Luck!"
   ]
  },
  {
   "cell_type": "markdown",
   "metadata": {
    "colab_type": "text",
    "id": "7zGjMeQF-MAB"
   },
   "source": [
    "## Part 2 - Assessment\n",
    "In this assessment, you will be asked to produce a function that can calculate the PageRank for an arbitrarily large probability matrix.\n",
    "This, the final assignment of the course, will give less guidance than previous assessments.\n",
    "You will be expected to utilise code from earlier in the worksheet and re-purpose it to your needs.\n",
    "\n",
    "### How to submit\n",
    "Edit the code in the cell below to complete the assignment.\n",
    "Once you are finished and happy with it, press the *Submit Assignment* button at the top of this notebook.\n",
    "\n",
    "Please don't change any of the function names, as these will be checked by the grading script.\n",
    "\n",
    "If you have further questions about submissions or programming assignments, here is a [list](https://www.coursera.org/learn/linear-algebra-machine-learning/discussions/weeks/1/threads/jB4klkn5EeibtBIQyzFmQg) of Q&A. You can also raise an issue on the discussion forum. Good luck!"
   ]
  },
  {
   "cell_type": "code",
   "execution_count": 0,
   "metadata": {
    "colab": {},
    "colab_type": "code",
    "collapsed": true,
    "id": "xQKhZfj8-MAC"
   },
   "outputs": [],
   "source": [
    "# PACKAGE\n",
    "# Here are the imports again, just in case you need them.\n",
    "# There is no need to edit or submit this cell.\n",
    "import numpy as np\n",
    "import numpy.linalg as la\n",
    "from readonly.PageRankFunctions import *\n",
    "np.set_printoptions(suppress=True)"
   ]
  },
  {
   "cell_type": "code",
   "execution_count": 36,
   "metadata": {
    "colab": {},
    "colab_type": "code",
    "collapsed": true,
    "id": "iZUwbpBX-MAF"
   },
   "outputs": [],
   "source": [
    "# GRADED FUNCTION\n",
    "# Complete this function to provide the PageRank for an arbitrarily sized internet.\n",
    "# I.e. the principal eigenvector of the damped system, using the power iteration method.\n",
    "# (Normalisation doesn't matter here)\n",
    "# The functions inputs are the linkMatrix, and d the damping parameter - as defined in this worksheet.\n",
    "# (The damping parameter, d, will be set by the function - no need to set this yourself.)\n",
    "def pageRank(linkMatrix, d) :\n",
    "    n = linkMatrix.shape[0]\n",
    "    M = d * linkMatrix + (1-d)/n * np.ones([n, n])\n",
    "    \n",
    "    r = 100 * np.ones(n) / n \n",
    "    lastR = r\n",
    "    r = M @ r\n",
    "    i = 0\n",
    "    while la.norm(lastR - r) > 0.01 :\n",
    "        lastR = r\n",
    "        r = M @ r\n",
    "        i += 1\n",
    "    return r\n"
   ]
  },
  {
   "cell_type": "markdown",
   "metadata": {
    "colab_type": "text",
    "id": "Sh7ZGHio-MAH"
   },
   "source": [
    "## Test your code before submission\n",
    "To test the code you've written above, run the cell (select the cell above, then press the play button [ ▶| ] or press shift-enter).\n",
    "You can then use the code below to test out your function.\n",
    "You don't need to submit this cell; you can edit and run it as much as you like."
   ]
  },
  {
   "cell_type": "code",
   "execution_count": 37,
   "metadata": {
    "colab": {},
    "colab_type": "code",
    "id": "2VOBIH5L-MAI"
   },
   "outputs": [
    {
     "data": {
      "text/plain": [
       "array([[ 0. ,  0. ,  1. ,  0. ,  0.2],\n",
       "       [ 0.5,  1. ,  0. ,  0. ,  0.2],\n",
       "       [ 0. ,  0. ,  0. ,  0. ,  0.2],\n",
       "       [ 0. ,  0. ,  0. ,  1. ,  0.2],\n",
       "       [ 0.5,  0. ,  0. ,  0. ,  0.2]])"
      ]
     },
     "execution_count": 37,
     "metadata": {},
     "output_type": "execute_result"
    }
   ],
   "source": [
    "# Use the following function to generate internets of different sizes.\n",
    "generate_internet(5)"
   ]
  },
  {
   "cell_type": "code",
   "execution_count": 38,
   "metadata": {
    "colab": {},
    "colab_type": "code",
    "collapsed": true,
    "id": "W1Qcc-Bk-MAK"
   },
   "outputs": [],
   "source": [
    "# Test your PageRank method against the built in \"eig\" method.\n",
    "# You should see yours is a lot faster for large internets\n",
    "L = generate_internet(10)"
   ]
  },
  {
   "cell_type": "code",
   "execution_count": 39,
   "metadata": {
    "colab": {},
    "colab_type": "code",
    "id": "KoiX9Iic-MAM"
   },
   "outputs": [
    {
     "data": {
      "text/plain": [
       "array([  4.04053557,   5.05083721,  26.26259981,   4.04053557,\n",
       "         7.07114357,   4.04053557,   6.06084194,  14.14147889,\n",
       "        18.18062098,  11.11087088])"
      ]
     },
     "execution_count": 39,
     "metadata": {},
     "output_type": "execute_result"
    }
   ],
   "source": [
    "pageRank(L, 1)"
   ]
  },
  {
   "cell_type": "code",
   "execution_count": 40,
   "metadata": {
    "colab": {},
    "colab_type": "code",
    "id": "1glzmaXb-MAQ"
   },
   "outputs": [
    {
     "data": {
      "text/plain": [
       "array([  4.04040404,   5.05050505,  26.26262625,   4.04040404,\n",
       "         7.07070707,   4.04040404,   6.06060606,  14.14141414,\n",
       "        18.18181817,  11.11111111])"
      ]
     },
     "execution_count": 40,
     "metadata": {},
     "output_type": "execute_result"
    }
   ],
   "source": [
    "# Do note, this is calculating the eigenvalues of the link matrix, L,\n",
    "# without any damping. It may give different results that your pageRank function.\n",
    "# If you wish, you could modify this cell to include damping.\n",
    "# (There is no credit for this though)\n",
    "eVals, eVecs = la.eig(L) # Gets the eigenvalues and vectors\n",
    "order = np.absolute(eVals).argsort()[::-1] # Orders them by their eigenvalues\n",
    "eVals = eVals[order]\n",
    "eVecs = eVecs[:,order]\n",
    "\n",
    "r = eVecs[:, 0]\n",
    "100 * np.real(r / np.sum(r))"
   ]
  },
  {
   "cell_type": "code",
   "execution_count": 41,
   "metadata": {
    "colab": {},
    "colab_type": "code",
    "id": "-Qvb1soC-MAS"
   },
   "outputs": [
    {
     "name": "stdout",
     "output_type": "stream",
     "text": [
      "Populating the interactive namespace from numpy and matplotlib\n"
     ]
    },
    {
     "data": {
      "application/javascript": [
       "/* Put everything inside the global mpl namespace */\n",
       "window.mpl = {};\n",
       "\n",
       "\n",
       "mpl.get_websocket_type = function() {\n",
       "    if (typeof(WebSocket) !== 'undefined') {\n",
       "        return WebSocket;\n",
       "    } else if (typeof(MozWebSocket) !== 'undefined') {\n",
       "        return MozWebSocket;\n",
       "    } else {\n",
       "        alert('Your browser does not have WebSocket support.' +\n",
       "              'Please try Chrome, Safari or Firefox ≥ 6. ' +\n",
       "              'Firefox 4 and 5 are also supported but you ' +\n",
       "              'have to enable WebSockets in about:config.');\n",
       "    };\n",
       "}\n",
       "\n",
       "mpl.figure = function(figure_id, websocket, ondownload, parent_element) {\n",
       "    this.id = figure_id;\n",
       "\n",
       "    this.ws = websocket;\n",
       "\n",
       "    this.supports_binary = (this.ws.binaryType != undefined);\n",
       "\n",
       "    if (!this.supports_binary) {\n",
       "        var warnings = document.getElementById(\"mpl-warnings\");\n",
       "        if (warnings) {\n",
       "            warnings.style.display = 'block';\n",
       "            warnings.textContent = (\n",
       "                \"This browser does not support binary websocket messages. \" +\n",
       "                    \"Performance may be slow.\");\n",
       "        }\n",
       "    }\n",
       "\n",
       "    this.imageObj = new Image();\n",
       "\n",
       "    this.context = undefined;\n",
       "    this.message = undefined;\n",
       "    this.canvas = undefined;\n",
       "    this.rubberband_canvas = undefined;\n",
       "    this.rubberband_context = undefined;\n",
       "    this.format_dropdown = undefined;\n",
       "\n",
       "    this.image_mode = 'full';\n",
       "\n",
       "    this.root = $('<div/>');\n",
       "    this._root_extra_style(this.root)\n",
       "    this.root.attr('style', 'display: inline-block');\n",
       "\n",
       "    $(parent_element).append(this.root);\n",
       "\n",
       "    this._init_header(this);\n",
       "    this._init_canvas(this);\n",
       "    this._init_toolbar(this);\n",
       "\n",
       "    var fig = this;\n",
       "\n",
       "    this.waiting = false;\n",
       "\n",
       "    this.ws.onopen =  function () {\n",
       "            fig.send_message(\"supports_binary\", {value: fig.supports_binary});\n",
       "            fig.send_message(\"send_image_mode\", {});\n",
       "            if (mpl.ratio != 1) {\n",
       "                fig.send_message(\"set_dpi_ratio\", {'dpi_ratio': mpl.ratio});\n",
       "            }\n",
       "            fig.send_message(\"refresh\", {});\n",
       "        }\n",
       "\n",
       "    this.imageObj.onload = function() {\n",
       "            if (fig.image_mode == 'full') {\n",
       "                // Full images could contain transparency (where diff images\n",
       "                // almost always do), so we need to clear the canvas so that\n",
       "                // there is no ghosting.\n",
       "                fig.context.clearRect(0, 0, fig.canvas.width, fig.canvas.height);\n",
       "            }\n",
       "            fig.context.drawImage(fig.imageObj, 0, 0);\n",
       "        };\n",
       "\n",
       "    this.imageObj.onunload = function() {\n",
       "        this.ws.close();\n",
       "    }\n",
       "\n",
       "    this.ws.onmessage = this._make_on_message_function(this);\n",
       "\n",
       "    this.ondownload = ondownload;\n",
       "}\n",
       "\n",
       "mpl.figure.prototype._init_header = function() {\n",
       "    var titlebar = $(\n",
       "        '<div class=\"ui-dialog-titlebar ui-widget-header ui-corner-all ' +\n",
       "        'ui-helper-clearfix\"/>');\n",
       "    var titletext = $(\n",
       "        '<div class=\"ui-dialog-title\" style=\"width: 100%; ' +\n",
       "        'text-align: center; padding: 3px;\"/>');\n",
       "    titlebar.append(titletext)\n",
       "    this.root.append(titlebar);\n",
       "    this.header = titletext[0];\n",
       "}\n",
       "\n",
       "\n",
       "\n",
       "mpl.figure.prototype._canvas_extra_style = function(canvas_div) {\n",
       "\n",
       "}\n",
       "\n",
       "\n",
       "mpl.figure.prototype._root_extra_style = function(canvas_div) {\n",
       "\n",
       "}\n",
       "\n",
       "mpl.figure.prototype._init_canvas = function() {\n",
       "    var fig = this;\n",
       "\n",
       "    var canvas_div = $('<div/>');\n",
       "\n",
       "    canvas_div.attr('style', 'position: relative; clear: both; outline: 0');\n",
       "\n",
       "    function canvas_keyboard_event(event) {\n",
       "        return fig.key_event(event, event['data']);\n",
       "    }\n",
       "\n",
       "    canvas_div.keydown('key_press', canvas_keyboard_event);\n",
       "    canvas_div.keyup('key_release', canvas_keyboard_event);\n",
       "    this.canvas_div = canvas_div\n",
       "    this._canvas_extra_style(canvas_div)\n",
       "    this.root.append(canvas_div);\n",
       "\n",
       "    var canvas = $('<canvas/>');\n",
       "    canvas.addClass('mpl-canvas');\n",
       "    canvas.attr('style', \"left: 0; top: 0; z-index: 0; outline: 0\")\n",
       "\n",
       "    this.canvas = canvas[0];\n",
       "    this.context = canvas[0].getContext(\"2d\");\n",
       "\n",
       "    var backingStore = this.context.backingStorePixelRatio ||\n",
       "\tthis.context.webkitBackingStorePixelRatio ||\n",
       "\tthis.context.mozBackingStorePixelRatio ||\n",
       "\tthis.context.msBackingStorePixelRatio ||\n",
       "\tthis.context.oBackingStorePixelRatio ||\n",
       "\tthis.context.backingStorePixelRatio || 1;\n",
       "\n",
       "    mpl.ratio = (window.devicePixelRatio || 1) / backingStore;\n",
       "\n",
       "    var rubberband = $('<canvas/>');\n",
       "    rubberband.attr('style', \"position: absolute; left: 0; top: 0; z-index: 1;\")\n",
       "\n",
       "    var pass_mouse_events = true;\n",
       "\n",
       "    canvas_div.resizable({\n",
       "        start: function(event, ui) {\n",
       "            pass_mouse_events = false;\n",
       "        },\n",
       "        resize: function(event, ui) {\n",
       "            fig.request_resize(ui.size.width, ui.size.height);\n",
       "        },\n",
       "        stop: function(event, ui) {\n",
       "            pass_mouse_events = true;\n",
       "            fig.request_resize(ui.size.width, ui.size.height);\n",
       "        },\n",
       "    });\n",
       "\n",
       "    function mouse_event_fn(event) {\n",
       "        if (pass_mouse_events)\n",
       "            return fig.mouse_event(event, event['data']);\n",
       "    }\n",
       "\n",
       "    rubberband.mousedown('button_press', mouse_event_fn);\n",
       "    rubberband.mouseup('button_release', mouse_event_fn);\n",
       "    // Throttle sequential mouse events to 1 every 20ms.\n",
       "    rubberband.mousemove('motion_notify', mouse_event_fn);\n",
       "\n",
       "    rubberband.mouseenter('figure_enter', mouse_event_fn);\n",
       "    rubberband.mouseleave('figure_leave', mouse_event_fn);\n",
       "\n",
       "    canvas_div.on(\"wheel\", function (event) {\n",
       "        event = event.originalEvent;\n",
       "        event['data'] = 'scroll'\n",
       "        if (event.deltaY < 0) {\n",
       "            event.step = 1;\n",
       "        } else {\n",
       "            event.step = -1;\n",
       "        }\n",
       "        mouse_event_fn(event);\n",
       "    });\n",
       "\n",
       "    canvas_div.append(canvas);\n",
       "    canvas_div.append(rubberband);\n",
       "\n",
       "    this.rubberband = rubberband;\n",
       "    this.rubberband_canvas = rubberband[0];\n",
       "    this.rubberband_context = rubberband[0].getContext(\"2d\");\n",
       "    this.rubberband_context.strokeStyle = \"#000000\";\n",
       "\n",
       "    this._resize_canvas = function(width, height) {\n",
       "        // Keep the size of the canvas, canvas container, and rubber band\n",
       "        // canvas in synch.\n",
       "        canvas_div.css('width', width)\n",
       "        canvas_div.css('height', height)\n",
       "\n",
       "        canvas.attr('width', width * mpl.ratio);\n",
       "        canvas.attr('height', height * mpl.ratio);\n",
       "        canvas.attr('style', 'width: ' + width + 'px; height: ' + height + 'px;');\n",
       "\n",
       "        rubberband.attr('width', width);\n",
       "        rubberband.attr('height', height);\n",
       "    }\n",
       "\n",
       "    // Set the figure to an initial 600x600px, this will subsequently be updated\n",
       "    // upon first draw.\n",
       "    this._resize_canvas(600, 600);\n",
       "\n",
       "    // Disable right mouse context menu.\n",
       "    $(this.rubberband_canvas).bind(\"contextmenu\",function(e){\n",
       "        return false;\n",
       "    });\n",
       "\n",
       "    function set_focus () {\n",
       "        canvas.focus();\n",
       "        canvas_div.focus();\n",
       "    }\n",
       "\n",
       "    window.setTimeout(set_focus, 100);\n",
       "}\n",
       "\n",
       "mpl.figure.prototype._init_toolbar = function() {\n",
       "    var fig = this;\n",
       "\n",
       "    var nav_element = $('<div/>')\n",
       "    nav_element.attr('style', 'width: 100%');\n",
       "    this.root.append(nav_element);\n",
       "\n",
       "    // Define a callback function for later on.\n",
       "    function toolbar_event(event) {\n",
       "        return fig.toolbar_button_onclick(event['data']);\n",
       "    }\n",
       "    function toolbar_mouse_event(event) {\n",
       "        return fig.toolbar_button_onmouseover(event['data']);\n",
       "    }\n",
       "\n",
       "    for(var toolbar_ind in mpl.toolbar_items) {\n",
       "        var name = mpl.toolbar_items[toolbar_ind][0];\n",
       "        var tooltip = mpl.toolbar_items[toolbar_ind][1];\n",
       "        var image = mpl.toolbar_items[toolbar_ind][2];\n",
       "        var method_name = mpl.toolbar_items[toolbar_ind][3];\n",
       "\n",
       "        if (!name) {\n",
       "            // put a spacer in here.\n",
       "            continue;\n",
       "        }\n",
       "        var button = $('<button/>');\n",
       "        button.addClass('ui-button ui-widget ui-state-default ui-corner-all ' +\n",
       "                        'ui-button-icon-only');\n",
       "        button.attr('role', 'button');\n",
       "        button.attr('aria-disabled', 'false');\n",
       "        button.click(method_name, toolbar_event);\n",
       "        button.mouseover(tooltip, toolbar_mouse_event);\n",
       "\n",
       "        var icon_img = $('<span/>');\n",
       "        icon_img.addClass('ui-button-icon-primary ui-icon');\n",
       "        icon_img.addClass(image);\n",
       "        icon_img.addClass('ui-corner-all');\n",
       "\n",
       "        var tooltip_span = $('<span/>');\n",
       "        tooltip_span.addClass('ui-button-text');\n",
       "        tooltip_span.html(tooltip);\n",
       "\n",
       "        button.append(icon_img);\n",
       "        button.append(tooltip_span);\n",
       "\n",
       "        nav_element.append(button);\n",
       "    }\n",
       "\n",
       "    var fmt_picker_span = $('<span/>');\n",
       "\n",
       "    var fmt_picker = $('<select/>');\n",
       "    fmt_picker.addClass('mpl-toolbar-option ui-widget ui-widget-content');\n",
       "    fmt_picker_span.append(fmt_picker);\n",
       "    nav_element.append(fmt_picker_span);\n",
       "    this.format_dropdown = fmt_picker[0];\n",
       "\n",
       "    for (var ind in mpl.extensions) {\n",
       "        var fmt = mpl.extensions[ind];\n",
       "        var option = $(\n",
       "            '<option/>', {selected: fmt === mpl.default_extension}).html(fmt);\n",
       "        fmt_picker.append(option)\n",
       "    }\n",
       "\n",
       "    // Add hover states to the ui-buttons\n",
       "    $( \".ui-button\" ).hover(\n",
       "        function() { $(this).addClass(\"ui-state-hover\");},\n",
       "        function() { $(this).removeClass(\"ui-state-hover\");}\n",
       "    );\n",
       "\n",
       "    var status_bar = $('<span class=\"mpl-message\"/>');\n",
       "    nav_element.append(status_bar);\n",
       "    this.message = status_bar[0];\n",
       "}\n",
       "\n",
       "mpl.figure.prototype.request_resize = function(x_pixels, y_pixels) {\n",
       "    // Request matplotlib to resize the figure. Matplotlib will then trigger a resize in the client,\n",
       "    // which will in turn request a refresh of the image.\n",
       "    this.send_message('resize', {'width': x_pixels, 'height': y_pixels});\n",
       "}\n",
       "\n",
       "mpl.figure.prototype.send_message = function(type, properties) {\n",
       "    properties['type'] = type;\n",
       "    properties['figure_id'] = this.id;\n",
       "    this.ws.send(JSON.stringify(properties));\n",
       "}\n",
       "\n",
       "mpl.figure.prototype.send_draw_message = function() {\n",
       "    if (!this.waiting) {\n",
       "        this.waiting = true;\n",
       "        this.ws.send(JSON.stringify({type: \"draw\", figure_id: this.id}));\n",
       "    }\n",
       "}\n",
       "\n",
       "\n",
       "mpl.figure.prototype.handle_save = function(fig, msg) {\n",
       "    var format_dropdown = fig.format_dropdown;\n",
       "    var format = format_dropdown.options[format_dropdown.selectedIndex].value;\n",
       "    fig.ondownload(fig, format);\n",
       "}\n",
       "\n",
       "\n",
       "mpl.figure.prototype.handle_resize = function(fig, msg) {\n",
       "    var size = msg['size'];\n",
       "    if (size[0] != fig.canvas.width || size[1] != fig.canvas.height) {\n",
       "        fig._resize_canvas(size[0], size[1]);\n",
       "        fig.send_message(\"refresh\", {});\n",
       "    };\n",
       "}\n",
       "\n",
       "mpl.figure.prototype.handle_rubberband = function(fig, msg) {\n",
       "    var x0 = msg['x0'] / mpl.ratio;\n",
       "    var y0 = (fig.canvas.height - msg['y0']) / mpl.ratio;\n",
       "    var x1 = msg['x1'] / mpl.ratio;\n",
       "    var y1 = (fig.canvas.height - msg['y1']) / mpl.ratio;\n",
       "    x0 = Math.floor(x0) + 0.5;\n",
       "    y0 = Math.floor(y0) + 0.5;\n",
       "    x1 = Math.floor(x1) + 0.5;\n",
       "    y1 = Math.floor(y1) + 0.5;\n",
       "    var min_x = Math.min(x0, x1);\n",
       "    var min_y = Math.min(y0, y1);\n",
       "    var width = Math.abs(x1 - x0);\n",
       "    var height = Math.abs(y1 - y0);\n",
       "\n",
       "    fig.rubberband_context.clearRect(\n",
       "        0, 0, fig.canvas.width, fig.canvas.height);\n",
       "\n",
       "    fig.rubberband_context.strokeRect(min_x, min_y, width, height);\n",
       "}\n",
       "\n",
       "mpl.figure.prototype.handle_figure_label = function(fig, msg) {\n",
       "    // Updates the figure title.\n",
       "    fig.header.textContent = msg['label'];\n",
       "}\n",
       "\n",
       "mpl.figure.prototype.handle_cursor = function(fig, msg) {\n",
       "    var cursor = msg['cursor'];\n",
       "    switch(cursor)\n",
       "    {\n",
       "    case 0:\n",
       "        cursor = 'pointer';\n",
       "        break;\n",
       "    case 1:\n",
       "        cursor = 'default';\n",
       "        break;\n",
       "    case 2:\n",
       "        cursor = 'crosshair';\n",
       "        break;\n",
       "    case 3:\n",
       "        cursor = 'move';\n",
       "        break;\n",
       "    }\n",
       "    fig.rubberband_canvas.style.cursor = cursor;\n",
       "}\n",
       "\n",
       "mpl.figure.prototype.handle_message = function(fig, msg) {\n",
       "    fig.message.textContent = msg['message'];\n",
       "}\n",
       "\n",
       "mpl.figure.prototype.handle_draw = function(fig, msg) {\n",
       "    // Request the server to send over a new figure.\n",
       "    fig.send_draw_message();\n",
       "}\n",
       "\n",
       "mpl.figure.prototype.handle_image_mode = function(fig, msg) {\n",
       "    fig.image_mode = msg['mode'];\n",
       "}\n",
       "\n",
       "mpl.figure.prototype.updated_canvas_event = function() {\n",
       "    // Called whenever the canvas gets updated.\n",
       "    this.send_message(\"ack\", {});\n",
       "}\n",
       "\n",
       "// A function to construct a web socket function for onmessage handling.\n",
       "// Called in the figure constructor.\n",
       "mpl.figure.prototype._make_on_message_function = function(fig) {\n",
       "    return function socket_on_message(evt) {\n",
       "        if (evt.data instanceof Blob) {\n",
       "            /* FIXME: We get \"Resource interpreted as Image but\n",
       "             * transferred with MIME type text/plain:\" errors on\n",
       "             * Chrome.  But how to set the MIME type?  It doesn't seem\n",
       "             * to be part of the websocket stream */\n",
       "            evt.data.type = \"image/png\";\n",
       "\n",
       "            /* Free the memory for the previous frames */\n",
       "            if (fig.imageObj.src) {\n",
       "                (window.URL || window.webkitURL).revokeObjectURL(\n",
       "                    fig.imageObj.src);\n",
       "            }\n",
       "\n",
       "            fig.imageObj.src = (window.URL || window.webkitURL).createObjectURL(\n",
       "                evt.data);\n",
       "            fig.updated_canvas_event();\n",
       "            fig.waiting = false;\n",
       "            return;\n",
       "        }\n",
       "        else if (typeof evt.data === 'string' && evt.data.slice(0, 21) == \"data:image/png;base64\") {\n",
       "            fig.imageObj.src = evt.data;\n",
       "            fig.updated_canvas_event();\n",
       "            fig.waiting = false;\n",
       "            return;\n",
       "        }\n",
       "\n",
       "        var msg = JSON.parse(evt.data);\n",
       "        var msg_type = msg['type'];\n",
       "\n",
       "        // Call the  \"handle_{type}\" callback, which takes\n",
       "        // the figure and JSON message as its only arguments.\n",
       "        try {\n",
       "            var callback = fig[\"handle_\" + msg_type];\n",
       "        } catch (e) {\n",
       "            console.log(\"No handler for the '\" + msg_type + \"' message type: \", msg);\n",
       "            return;\n",
       "        }\n",
       "\n",
       "        if (callback) {\n",
       "            try {\n",
       "                // console.log(\"Handling '\" + msg_type + \"' message: \", msg);\n",
       "                callback(fig, msg);\n",
       "            } catch (e) {\n",
       "                console.log(\"Exception inside the 'handler_\" + msg_type + \"' callback:\", e, e.stack, msg);\n",
       "            }\n",
       "        }\n",
       "    };\n",
       "}\n",
       "\n",
       "// from http://stackoverflow.com/questions/1114465/getting-mouse-location-in-canvas\n",
       "mpl.findpos = function(e) {\n",
       "    //this section is from http://www.quirksmode.org/js/events_properties.html\n",
       "    var targ;\n",
       "    if (!e)\n",
       "        e = window.event;\n",
       "    if (e.target)\n",
       "        targ = e.target;\n",
       "    else if (e.srcElement)\n",
       "        targ = e.srcElement;\n",
       "    if (targ.nodeType == 3) // defeat Safari bug\n",
       "        targ = targ.parentNode;\n",
       "\n",
       "    // jQuery normalizes the pageX and pageY\n",
       "    // pageX,Y are the mouse positions relative to the document\n",
       "    // offset() returns the position of the element relative to the document\n",
       "    var x = e.pageX - $(targ).offset().left;\n",
       "    var y = e.pageY - $(targ).offset().top;\n",
       "\n",
       "    return {\"x\": x, \"y\": y};\n",
       "};\n",
       "\n",
       "/*\n",
       " * return a copy of an object with only non-object keys\n",
       " * we need this to avoid circular references\n",
       " * http://stackoverflow.com/a/24161582/3208463\n",
       " */\n",
       "function simpleKeys (original) {\n",
       "  return Object.keys(original).reduce(function (obj, key) {\n",
       "    if (typeof original[key] !== 'object')\n",
       "        obj[key] = original[key]\n",
       "    return obj;\n",
       "  }, {});\n",
       "}\n",
       "\n",
       "mpl.figure.prototype.mouse_event = function(event, name) {\n",
       "    var canvas_pos = mpl.findpos(event)\n",
       "\n",
       "    if (name === 'button_press')\n",
       "    {\n",
       "        this.canvas.focus();\n",
       "        this.canvas_div.focus();\n",
       "    }\n",
       "\n",
       "    var x = canvas_pos.x * mpl.ratio;\n",
       "    var y = canvas_pos.y * mpl.ratio;\n",
       "\n",
       "    this.send_message(name, {x: x, y: y, button: event.button,\n",
       "                             step: event.step,\n",
       "                             guiEvent: simpleKeys(event)});\n",
       "\n",
       "    /* This prevents the web browser from automatically changing to\n",
       "     * the text insertion cursor when the button is pressed.  We want\n",
       "     * to control all of the cursor setting manually through the\n",
       "     * 'cursor' event from matplotlib */\n",
       "    event.preventDefault();\n",
       "    return false;\n",
       "}\n",
       "\n",
       "mpl.figure.prototype._key_event_extra = function(event, name) {\n",
       "    // Handle any extra behaviour associated with a key event\n",
       "}\n",
       "\n",
       "mpl.figure.prototype.key_event = function(event, name) {\n",
       "\n",
       "    // Prevent repeat events\n",
       "    if (name == 'key_press')\n",
       "    {\n",
       "        if (event.which === this._key)\n",
       "            return;\n",
       "        else\n",
       "            this._key = event.which;\n",
       "    }\n",
       "    if (name == 'key_release')\n",
       "        this._key = null;\n",
       "\n",
       "    var value = '';\n",
       "    if (event.ctrlKey && event.which != 17)\n",
       "        value += \"ctrl+\";\n",
       "    if (event.altKey && event.which != 18)\n",
       "        value += \"alt+\";\n",
       "    if (event.shiftKey && event.which != 16)\n",
       "        value += \"shift+\";\n",
       "\n",
       "    value += 'k';\n",
       "    value += event.which.toString();\n",
       "\n",
       "    this._key_event_extra(event, name);\n",
       "\n",
       "    this.send_message(name, {key: value,\n",
       "                             guiEvent: simpleKeys(event)});\n",
       "    return false;\n",
       "}\n",
       "\n",
       "mpl.figure.prototype.toolbar_button_onclick = function(name) {\n",
       "    if (name == 'download') {\n",
       "        this.handle_save(this, null);\n",
       "    } else {\n",
       "        this.send_message(\"toolbar_button\", {name: name});\n",
       "    }\n",
       "};\n",
       "\n",
       "mpl.figure.prototype.toolbar_button_onmouseover = function(tooltip) {\n",
       "    this.message.textContent = tooltip;\n",
       "};\n",
       "mpl.toolbar_items = [[\"Home\", \"Reset original view\", \"fa fa-home icon-home\", \"home\"], [\"Back\", \"Back to  previous view\", \"fa fa-arrow-left icon-arrow-left\", \"back\"], [\"Forward\", \"Forward to next view\", \"fa fa-arrow-right icon-arrow-right\", \"forward\"], [\"\", \"\", \"\", \"\"], [\"Pan\", \"Pan axes with left mouse, zoom with right\", \"fa fa-arrows icon-move\", \"pan\"], [\"Zoom\", \"Zoom to rectangle\", \"fa fa-square-o icon-check-empty\", \"zoom\"], [\"\", \"\", \"\", \"\"], [\"Download\", \"Download plot\", \"fa fa-floppy-o icon-save\", \"download\"]];\n",
       "\n",
       "mpl.extensions = [\"eps\", \"jpeg\", \"pdf\", \"png\", \"ps\", \"raw\", \"svg\", \"tif\"];\n",
       "\n",
       "mpl.default_extension = \"png\";var comm_websocket_adapter = function(comm) {\n",
       "    // Create a \"websocket\"-like object which calls the given IPython comm\n",
       "    // object with the appropriate methods. Currently this is a non binary\n",
       "    // socket, so there is still some room for performance tuning.\n",
       "    var ws = {};\n",
       "\n",
       "    ws.close = function() {\n",
       "        comm.close()\n",
       "    };\n",
       "    ws.send = function(m) {\n",
       "        //console.log('sending', m);\n",
       "        comm.send(m);\n",
       "    };\n",
       "    // Register the callback with on_msg.\n",
       "    comm.on_msg(function(msg) {\n",
       "        //console.log('receiving', msg['content']['data'], msg);\n",
       "        // Pass the mpl event to the overriden (by mpl) onmessage function.\n",
       "        ws.onmessage(msg['content']['data'])\n",
       "    });\n",
       "    return ws;\n",
       "}\n",
       "\n",
       "mpl.mpl_figure_comm = function(comm, msg) {\n",
       "    // This is the function which gets called when the mpl process\n",
       "    // starts-up an IPython Comm through the \"matplotlib\" channel.\n",
       "\n",
       "    var id = msg.content.data.id;\n",
       "    // Get hold of the div created by the display call when the Comm\n",
       "    // socket was opened in Python.\n",
       "    var element = $(\"#\" + id);\n",
       "    var ws_proxy = comm_websocket_adapter(comm)\n",
       "\n",
       "    function ondownload(figure, format) {\n",
       "        window.open(figure.imageObj.src);\n",
       "    }\n",
       "\n",
       "    var fig = new mpl.figure(id, ws_proxy,\n",
       "                           ondownload,\n",
       "                           element.get(0));\n",
       "\n",
       "    // Call onopen now - mpl needs it, as it is assuming we've passed it a real\n",
       "    // web socket which is closed, not our websocket->open comm proxy.\n",
       "    ws_proxy.onopen();\n",
       "\n",
       "    fig.parent_element = element.get(0);\n",
       "    fig.cell_info = mpl.find_output_cell(\"<div id='\" + id + \"'></div>\");\n",
       "    if (!fig.cell_info) {\n",
       "        console.error(\"Failed to find cell for figure\", id, fig);\n",
       "        return;\n",
       "    }\n",
       "\n",
       "    var output_index = fig.cell_info[2]\n",
       "    var cell = fig.cell_info[0];\n",
       "\n",
       "};\n",
       "\n",
       "mpl.figure.prototype.handle_close = function(fig, msg) {\n",
       "    var width = fig.canvas.width/mpl.ratio\n",
       "    fig.root.unbind('remove')\n",
       "\n",
       "    // Update the output cell to use the data from the current canvas.\n",
       "    fig.push_to_output();\n",
       "    var dataURL = fig.canvas.toDataURL();\n",
       "    // Re-enable the keyboard manager in IPython - without this line, in FF,\n",
       "    // the notebook keyboard shortcuts fail.\n",
       "    IPython.keyboard_manager.enable()\n",
       "    $(fig.parent_element).html('<img src=\"' + dataURL + '\" width=\"' + width + '\">');\n",
       "    fig.close_ws(fig, msg);\n",
       "}\n",
       "\n",
       "mpl.figure.prototype.close_ws = function(fig, msg){\n",
       "    fig.send_message('closing', msg);\n",
       "    // fig.ws.close()\n",
       "}\n",
       "\n",
       "mpl.figure.prototype.push_to_output = function(remove_interactive) {\n",
       "    // Turn the data on the canvas into data in the output cell.\n",
       "    var width = this.canvas.width/mpl.ratio\n",
       "    var dataURL = this.canvas.toDataURL();\n",
       "    this.cell_info[1]['text/html'] = '<img src=\"' + dataURL + '\" width=\"' + width + '\">';\n",
       "}\n",
       "\n",
       "mpl.figure.prototype.updated_canvas_event = function() {\n",
       "    // Tell IPython that the notebook contents must change.\n",
       "    IPython.notebook.set_dirty(true);\n",
       "    this.send_message(\"ack\", {});\n",
       "    var fig = this;\n",
       "    // Wait a second, then push the new image to the DOM so\n",
       "    // that it is saved nicely (might be nice to debounce this).\n",
       "    setTimeout(function () { fig.push_to_output() }, 1000);\n",
       "}\n",
       "\n",
       "mpl.figure.prototype._init_toolbar = function() {\n",
       "    var fig = this;\n",
       "\n",
       "    var nav_element = $('<div/>')\n",
       "    nav_element.attr('style', 'width: 100%');\n",
       "    this.root.append(nav_element);\n",
       "\n",
       "    // Define a callback function for later on.\n",
       "    function toolbar_event(event) {\n",
       "        return fig.toolbar_button_onclick(event['data']);\n",
       "    }\n",
       "    function toolbar_mouse_event(event) {\n",
       "        return fig.toolbar_button_onmouseover(event['data']);\n",
       "    }\n",
       "\n",
       "    for(var toolbar_ind in mpl.toolbar_items){\n",
       "        var name = mpl.toolbar_items[toolbar_ind][0];\n",
       "        var tooltip = mpl.toolbar_items[toolbar_ind][1];\n",
       "        var image = mpl.toolbar_items[toolbar_ind][2];\n",
       "        var method_name = mpl.toolbar_items[toolbar_ind][3];\n",
       "\n",
       "        if (!name) { continue; };\n",
       "\n",
       "        var button = $('<button class=\"btn btn-default\" href=\"#\" title=\"' + name + '\"><i class=\"fa ' + image + ' fa-lg\"></i></button>');\n",
       "        button.click(method_name, toolbar_event);\n",
       "        button.mouseover(tooltip, toolbar_mouse_event);\n",
       "        nav_element.append(button);\n",
       "    }\n",
       "\n",
       "    // Add the status bar.\n",
       "    var status_bar = $('<span class=\"mpl-message\" style=\"text-align:right; float: right;\"/>');\n",
       "    nav_element.append(status_bar);\n",
       "    this.message = status_bar[0];\n",
       "\n",
       "    // Add the close button to the window.\n",
       "    var buttongrp = $('<div class=\"btn-group inline pull-right\"></div>');\n",
       "    var button = $('<button class=\"btn btn-mini btn-primary\" href=\"#\" title=\"Stop Interaction\"><i class=\"fa fa-power-off icon-remove icon-large\"></i></button>');\n",
       "    button.click(function (evt) { fig.handle_close(fig, {}); } );\n",
       "    button.mouseover('Stop Interaction', toolbar_mouse_event);\n",
       "    buttongrp.append(button);\n",
       "    var titlebar = this.root.find($('.ui-dialog-titlebar'));\n",
       "    titlebar.prepend(buttongrp);\n",
       "}\n",
       "\n",
       "mpl.figure.prototype._root_extra_style = function(el){\n",
       "    var fig = this\n",
       "    el.on(\"remove\", function(){\n",
       "\tfig.close_ws(fig, {});\n",
       "    });\n",
       "}\n",
       "\n",
       "mpl.figure.prototype._canvas_extra_style = function(el){\n",
       "    // this is important to make the div 'focusable\n",
       "    el.attr('tabindex', 0)\n",
       "    // reach out to IPython and tell the keyboard manager to turn it's self\n",
       "    // off when our div gets focus\n",
       "\n",
       "    // location in version 3\n",
       "    if (IPython.notebook.keyboard_manager) {\n",
       "        IPython.notebook.keyboard_manager.register_events(el);\n",
       "    }\n",
       "    else {\n",
       "        // location in version 2\n",
       "        IPython.keyboard_manager.register_events(el);\n",
       "    }\n",
       "\n",
       "}\n",
       "\n",
       "mpl.figure.prototype._key_event_extra = function(event, name) {\n",
       "    var manager = IPython.notebook.keyboard_manager;\n",
       "    if (!manager)\n",
       "        manager = IPython.keyboard_manager;\n",
       "\n",
       "    // Check for shift+enter\n",
       "    if (event.shiftKey && event.which == 13) {\n",
       "        this.canvas_div.blur();\n",
       "        // select the cell after this one\n",
       "        var index = IPython.notebook.find_cell_index(this.cell_info[0]);\n",
       "        IPython.notebook.select(index + 1);\n",
       "    }\n",
       "}\n",
       "\n",
       "mpl.figure.prototype.handle_save = function(fig, msg) {\n",
       "    fig.ondownload(fig, null);\n",
       "}\n",
       "\n",
       "\n",
       "mpl.find_output_cell = function(html_output) {\n",
       "    // Return the cell and output element which can be found *uniquely* in the notebook.\n",
       "    // Note - this is a bit hacky, but it is done because the \"notebook_saving.Notebook\"\n",
       "    // IPython event is triggered only after the cells have been serialised, which for\n",
       "    // our purposes (turning an active figure into a static one), is too late.\n",
       "    var cells = IPython.notebook.get_cells();\n",
       "    var ncells = cells.length;\n",
       "    for (var i=0; i<ncells; i++) {\n",
       "        var cell = cells[i];\n",
       "        if (cell.cell_type === 'code'){\n",
       "            for (var j=0; j<cell.output_area.outputs.length; j++) {\n",
       "                var data = cell.output_area.outputs[j];\n",
       "                if (data.data) {\n",
       "                    // IPython >= 3 moved mimebundle to data attribute of output\n",
       "                    data = data.data;\n",
       "                }\n",
       "                if (data['text/html'] == html_output) {\n",
       "                    return [cell, data, j];\n",
       "                }\n",
       "            }\n",
       "        }\n",
       "    }\n",
       "}\n",
       "\n",
       "// Register the function which deals with the matplotlib target/channel.\n",
       "// The kernel may be null if the page has been refreshed.\n",
       "if (IPython.notebook.kernel != null) {\n",
       "    IPython.notebook.kernel.comm_manager.register_target('matplotlib', mpl.mpl_figure_comm);\n",
       "}\n"
      ],
      "text/plain": [
       "<IPython.core.display.Javascript object>"
      ]
     },
     "metadata": {},
     "output_type": "display_data"
    },
    {
     "data": {
      "text/html": [
       "<img src=\"data:image/png;base64,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\" width=\"640\">"
      ],
      "text/plain": [
       "<IPython.core.display.HTML object>"
      ]
     },
     "metadata": {},
     "output_type": "display_data"
    }
   ],
   "source": [
    "# You may wish to view the PageRank graphically.\n",
    "# This code will draw a bar chart, for each (numbered) website on the generated internet,\n",
    "# The height of each bar will be the score in the PageRank.\n",
    "# Run this code to see the PageRank for each internet you generate.\n",
    "# Hopefully you should see what you might expect\n",
    "# - there are a few clusters of important websites, but most on the internet are rubbish!\n",
    "%pylab notebook\n",
    "r = pageRank(generate_internet(100), 0.9)\n",
    "plt.bar(arange(r.shape[0]), r);"
   ]
  },
  {
   "cell_type": "code",
   "execution_count": 0,
   "metadata": {
    "colab": {},
    "colab_type": "code",
    "collapsed": true,
    "id": "N3R50WmD-MAU"
   },
   "outputs": [],
   "source": []
  }
 ],
 "metadata": {
  "colab": {
   "name": "PageRank.ipynb",
   "provenance": []
  },
  "coursera": {
   "course_slug": "linear-algebra-machine-learning",
   "graded_item_id": "Sfbnp",
   "launcher_item_id": "aPxf3"
  },
  "kernelspec": {
   "display_name": "Python 3",
   "language": "python",
   "name": "python3"
  },
  "language_info": {
   "codemirror_mode": {
    "name": "ipython",
    "version": 3
   },
   "file_extension": ".py",
   "mimetype": "text/x-python",
   "name": "python",
   "nbconvert_exporter": "python",
   "pygments_lexer": "ipython3",
   "version": "3.7.4"
  }
 },
 "nbformat": 4,
 "nbformat_minor": 1
}
